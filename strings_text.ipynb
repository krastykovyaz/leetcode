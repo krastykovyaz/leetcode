{
 "cells": [
  {
   "cell_type": "markdown",
   "id": "f76f8134",
   "metadata": {},
   "source": [
    "### Поиск на основе регулярных выражений"
   ]
  },
  {
   "cell_type": "code",
   "execution_count": 16,
   "id": "c40128f9",
   "metadata": {},
   "outputs": [
    {
     "data": {
      "text/plain": [
       "'asdf fjdk;afed,fjek,asdf,foo'"
      ]
     },
     "execution_count": 16,
     "metadata": {},
     "output_type": "execute_result"
    }
   ],
   "source": [
    "# переформатирования выводимой строки\n",
    "fields = ['asdf', ' ', 'fjdk', ';', 'afed', ',', 'fjek', ',', 'asdf', ',', 'foo']\n",
    "delimeters = fields[1::2] + ['']\n",
    "values = fields[::2]\n",
    "''.join([v+d for v,d in zip(values,delimeters)])"
   ]
  },
  {
   "cell_type": "code",
   "execution_count": 17,
   "id": "764cca53",
   "metadata": {},
   "outputs": [
    {
     "name": "stdout",
     "output_type": "stream",
     "text": [
      "True\n",
      "True\n"
     ]
    }
   ],
   "source": [
    "# Вы хотите найти текст, используя те же маски, которые обычно используются в оболочках Unix (например, \\*.py, Dat[0-9]\\*.csv и т.д.)\n",
    "from fnmatch import fnmatch, fnmatchcase\n",
    "print(fnmatch('Dat45.csv', 'Dat[0-9]*'))\n",
    "print(fnmatch('foo.txt', '?oo.txt'))\n"
   ]
  },
  {
   "cell_type": "code",
   "execution_count": 18,
   "id": "17e938b6",
   "metadata": {},
   "outputs": [
    {
     "data": {
      "text/plain": [
       "['5412 N CLARK ST']"
      ]
     },
     "execution_count": 18,
     "metadata": {},
     "output_type": "execute_result"
    }
   ],
   "source": [
    "addresses = [\n",
    "    '5412 N CLARK ST',\n",
    "    '1060 W ADDISON ST',\n",
    "    '1039 W GRANVILLE AVE',\n",
    "    '2122 N CLARK ST',\n",
    "    '4802 N BROADWAY',\n",
    "]\n",
    "[addr for addr in addresses if fnmatchcase(addr, '54[0-9][0-9] *CLARK*')]"
   ]
  },
  {
   "cell_type": "code",
   "execution_count": 19,
   "id": "5621e3ad",
   "metadata": {},
   "outputs": [
    {
     "name": "stdout",
     "output_type": "stream",
     "text": [
      "yes\n"
     ]
    }
   ],
   "source": [
    "# Если вы собираетесь много раз искать по одному и тому же шаблону, часто окупается предварительная компиляция шаблона регулярного выражения в объект шаблона.\n",
    "import re\n",
    "date = '2021-12-03'\n",
    "form = re.compile(r'\\d+-\\d+-\\d+')\n",
    "if form.match(date):\n",
    "    print('yes')\n",
    "else:\n",
    "    print('no')\n"
   ]
  },
  {
   "cell_type": "code",
   "execution_count": 34,
   "id": "87d04e2a",
   "metadata": {},
   "outputs": [
    {
     "name": "stdout",
     "output_type": "stream",
     "text": [
      "('2021', '12', '03')\n",
      "2021 12 03\n",
      "iterated ('2021', '12', '03')\n"
     ]
    }
   ],
   "source": [
    "# При составлении регулярных выражений часто нужно использовать захватывающие группы, заключая части шаблона в скобки.\n",
    "form = re.compile(r'(\\d+)-(\\d+)-(\\d+)')\n",
    "g = form.match(date)\n",
    "print(g.groups())\n",
    "yead, month, day = g.groups()\n",
    "print(yead, month, day)\n",
    "\n",
    "# Если вы хотите искать совпадения итеративно, используйте метод *finditer()*\n",
    "for m in form.finditer(date):\n",
    "    print('iterated', m.groups())"
   ]
  },
  {
   "cell_type": "markdown",
   "id": "80a51956",
   "metadata": {},
   "source": [
    "### Поиск и замена текста"
   ]
  },
  {
   "cell_type": "code",
   "execution_count": 35,
   "id": "df0a7b1b",
   "metadata": {},
   "outputs": [
    {
     "data": {
      "text/plain": [
       "'Today is 2012-11-27. PyCon starts 2013-3-13.'"
      ]
     },
     "execution_count": 35,
     "metadata": {},
     "output_type": "execute_result"
    }
   ],
   "source": [
    "# перезаписать даты, чтобы перевести из их формата “11/27/2012” в “2012-11-27.”\n",
    "text = 'Today is 11/27/2012. PyCon starts 3/13/2013.'\n",
    "re.sub(r'(\\d+)/(\\d+)/(\\d+)', r'\\3-\\1-\\2', text)"
   ]
  },
  {
   "cell_type": "code",
   "execution_count": 39,
   "id": "cd095d9d",
   "metadata": {},
   "outputs": [
    {
     "data": {
      "text/plain": [
       "'Today is 27 Nov 2012. PyCon starts 13 Mar 2013.'"
      ]
     },
     "execution_count": 39,
     "metadata": {},
     "output_type": "execute_result"
    }
   ],
   "source": [
    "# более сложных подстановок можно определить подстановочную функцию обратного вызова (коллбэк, callback)\n",
    "from calendar import month_abbr\n",
    "\n",
    "form = re.compile(r'(\\d+)/(\\d+)/(\\d+)')\n",
    "\n",
    "def change_date(m):\n",
    "    mon_name = month_abbr[int(m.group(1))]\n",
    "    return '{} {} {}'.format(m.group(2), mon_name, m.group(3))\n",
    "\n",
    "form.sub(change_date, text)"
   ]
  },
  {
   "cell_type": "code",
   "execution_count": 42,
   "id": "4799b01b",
   "metadata": {},
   "outputs": [
    {
     "data": {
      "text/plain": [
       "'UPPER SNAKE, lower snake, Mixed Snake'"
      ]
     },
     "execution_count": 42,
     "metadata": {},
     "output_type": "execute_result"
    }
   ],
   "source": [
    "# текст замены не будет совпадать по регистру с заменяемым текстом\n",
    "\n",
    "text = 'UPPER PYTHON, lower python, Mixed Python'\n",
    "\n",
    "def matchcase(word):\n",
    "    def replace(m):\n",
    "        text = m.group()\n",
    "        if text.isupper():\n",
    "            return word.upper()\n",
    "        elif text.islower():\n",
    "            return word.lower()\n",
    "        elif text[0].isupper():\n",
    "            return word.capitalize()\n",
    "        else:\n",
    "            return word\n",
    "    return replace\n",
    "\n",
    "re.sub('python', matchcase('snake'), text, flags=re.IGNORECASE)\n"
   ]
  },
  {
   "cell_type": "markdown",
   "id": "8f717400",
   "metadata": {},
   "source": [
    "### Определение регулярных выражений для поиска кратчайшего совпадения"
   ]
  },
  {
   "cell_type": "code",
   "execution_count": 51,
   "id": "61b4cf67",
   "metadata": {},
   "outputs": [
    {
     "name": "stdout",
     "output_type": "stream",
     "text": [
      "['no.\" Phone says \"yes.']\n",
      "['no.', 'yes.']\n"
     ]
    },
    {
     "data": {
      "text/plain": [
       "[' this is a\\n... multiline comment ']"
      ]
     },
     "execution_count": 51,
     "metadata": {},
     "output_type": "execute_result"
    }
   ],
   "source": [
    "# Жадная *\n",
    "text2 = 'Computer says \"no.\" Phone says \"yes.\"'\n",
    "str_pat = re.compile(r'\\\"(.*)\\\"')\n",
    "print(str_pat.findall(text2))\n",
    "# добавим ?\n",
    "str_pat = re.compile(r'\\\"(.*?)\\\"')\n",
    "print(str_pat.findall(text2))\n",
    "# поддержка символов новой строки\n",
    "comment = re.compile(r'/\\*((?:.|\\n)*?)\\*/')\n",
    "text2 = '''/* this is a\n",
    "... multiline comment */'''\n",
    "print(comment.findall(text2))\n",
    "# comment = re.compile(r'/\\*(.*?)\\*/', re.DOTALL) \n",
    "# re.DOTALL заставляет в регулярном выражении совпадать с любыми символами"
   ]
  },
  {
   "cell_type": "markdown",
   "id": "28832bb2",
   "metadata": {},
   "source": [
    "### Приведение текста в Unicode к стандартному представлению (нормализация)"
   ]
  },
  {
   "cell_type": "code",
   "execution_count": 59,
   "id": "5e939c96",
   "metadata": {},
   "outputs": [
    {
     "name": "stdout",
     "output_type": "stream",
     "text": [
      "Spicy Jalapeño Spicy Jalapeño False\n",
      "Spicy Jalapeño Spicy Jalapeño True\n",
      "Spicy Jalapeno\n"
     ]
    }
   ],
   "source": [
    "# нормализация\n",
    "s1 = 'Spicy Jalape\\u00f1o'\n",
    "s2 = 'Spicy Jalapen\\u0303o'\n",
    "\n",
    "print(s1, s2, s1==s2)\n",
    "import unicodedata\n",
    "\n",
    "t1 = unicodedata.normalize('NFC', s1)\n",
    "t2 = unicodedata.normalize('NFC', s2)\n",
    "print(t1, t2, t1 == t2)\n",
    "t1 = unicodedata.normalize('NFD', s1)\n",
    "print(''.join(c for c in t1 if not unicodedata.combining(c)))\n"
   ]
  },
  {
   "cell_type": "code",
   "execution_count": 70,
   "id": "a7f52cf0",
   "metadata": {},
   "outputs": [
    {
     "data": {
      "text/plain": [
       "'١٢٣'"
      ]
     },
     "execution_count": 70,
     "metadata": {},
     "output_type": "execute_result"
    }
   ],
   "source": [
    "# Арабские цифры\n",
    "num = re.compile('\\d+')\n",
    "d = num.match('\\u0661\\u0662\\u0663')\n",
    "d.group(0)"
   ]
  },
  {
   "cell_type": "code",
   "execution_count": 72,
   "id": "90f643c6",
   "metadata": {},
   "outputs": [
    {
     "data": {
      "text/plain": [
       "'python is awesome\\n'"
      ]
     },
     "execution_count": 72,
     "metadata": {},
     "output_type": "execute_result"
    }
   ],
   "source": [
    "# очистка текста\n",
    "a = 'pýtĥöñ is awesome\\n'\n",
    "b = unicodedata.normalize('NFD', a)\n",
    "b.encode('ascii', 'ignore').decode('ascii')"
   ]
  },
  {
   "cell_type": "code",
   "execution_count": 73,
   "id": "8fb9ed6a",
   "metadata": {},
   "outputs": [
    {
     "name": "stdout",
     "output_type": "stream",
     "text": [
      "pýtĥöñ is awesome\n",
      "\n",
      "python is awesome\n",
      "\n"
     ]
    }
   ],
   "source": [
    "# вы хотите удалить целые диапазоны символов или удалить диакритические знаки. str.translate()\n",
    "import unicodedata\n",
    "import sys\n",
    "cmb_chrs = dict.fromkeys(c for c in range(sys.maxunicode)\n",
    "    if unicodedata.combining(chr(c)))\n",
    "\n",
    "b = unicodedata.normalize('NFD', a)\n",
    "print(b)\n",
    "print(b.translate(cmb_chrs))"
   ]
  },
  {
   "cell_type": "code",
   "execution_count": 78,
   "id": "053f6b03",
   "metadata": {},
   "outputs": [
    {
     "name": "stdout",
     "output_type": "stream",
     "text": [
      "=========Hello World\n",
      "****Hello World*****\n"
     ]
    }
   ],
   "source": [
    "# Если вы хотите использовать в качестве заполняющего символа не пробел, определите его перед символом выравнивания:\n",
    "text='Hello World'\n",
    "print(format(text, '=>20s'))\n",
    "print(format(text, '*^20s'))\n"
   ]
  },
  {
   "cell_type": "code",
   "execution_count": 79,
   "id": "405d41dd",
   "metadata": {
    "collapsed": true
   },
   "outputs": [
    {
     "ename": "NameError",
     "evalue": "name 'f' is not defined",
     "output_type": "error",
     "traceback": [
      "\u001b[0;31m---------------------------------------------------------------------------\u001b[0m",
      "\u001b[0;31mNameError\u001b[0m                                 Traceback (most recent call last)",
      "\u001b[0;32m<ipython-input-79-e786fc78fad3>\u001b[0m in \u001b[0;36m<module>\u001b[0;34m\u001b[0m\n\u001b[1;32m     21\u001b[0m \u001b[0;34m\u001b[0m\u001b[0m\n\u001b[1;32m     22\u001b[0m \u001b[0;32mfor\u001b[0m \u001b[0mpart\u001b[0m \u001b[0;32min\u001b[0m \u001b[0mcombine\u001b[0m\u001b[0;34m(\u001b[0m\u001b[0msample\u001b[0m\u001b[0;34m(\u001b[0m\u001b[0;34m)\u001b[0m\u001b[0;34m,\u001b[0m \u001b[0;36m32768\u001b[0m\u001b[0;34m)\u001b[0m\u001b[0;34m:\u001b[0m\u001b[0;34m\u001b[0m\u001b[0m\n\u001b[0;32m---> 23\u001b[0;31m     \u001b[0mf\u001b[0m\u001b[0;34m.\u001b[0m\u001b[0mwrite\u001b[0m\u001b[0;34m(\u001b[0m\u001b[0mpart\u001b[0m\u001b[0;34m)\u001b[0m\u001b[0;34m\u001b[0m\u001b[0m\n\u001b[0m",
      "\u001b[0;31mNameError\u001b[0m: name 'f' is not defined"
     ]
    }
   ],
   "source": [
    "# если вы пишете код, который формирует результат из множества небольших строк, \n",
    "# подумайте о том, чтобы оформить его как генератор, используя *yield* для производства фрагментов.\n",
    "\n",
    "def sample():\n",
    "    yield 'Is'\n",
    "    yield 'Chicago'\n",
    "    yield 'Not'\n",
    "    yield 'Chicago?'\n",
    "\n",
    "def combine(source, maxsize):\n",
    "    parts = []\n",
    "    size = 0\n",
    "    for part in source:\n",
    "        parts.append(part)\n",
    "        size += len(part)\n",
    "        if size > maxsize:\n",
    "            yield ''.join(parts)\n",
    "            parts = []\n",
    "            size = 0\n",
    "    yield ''.join(parts)\n",
    "\n",
    "for part in combine(sample(), 32768):\n",
    "    f.write(part)"
   ]
  },
  {
   "cell_type": "code",
   "execution_count": 84,
   "id": "b95831f0",
   "metadata": {},
   "outputs": [
    {
     "data": {
      "text/plain": [
       "'Guido has 37 messages.'"
      ]
     },
     "execution_count": 84,
     "metadata": {},
     "output_type": "execute_result"
    }
   ],
   "source": [
    "# Стоит отметить, что *vars()* также работает с экземплярами.\n",
    "s = '{name} has {n} messages.'\n",
    "class Info:\n",
    "    def __init__(self, name, n):\n",
    "        self.n = n\n",
    "        self.name = name\n",
    "    \n",
    "g = Info('Guido', 37)\n",
    "s.format_map(vars(g))     "
   ]
  },
  {
   "cell_type": "markdown",
   "id": "00f638d5",
   "metadata": {},
   "source": [
    "### Разбивка текста на фиксированное количество колонок"
   ]
  },
  {
   "cell_type": "code",
   "execution_count": 89,
   "id": "8f52355b",
   "metadata": {},
   "outputs": [
    {
     "name": "stdout",
     "output_type": "stream",
     "text": [
      "Look into my eyes,\n",
      " look into my eyes,\n",
      " the eyes, the eyes,\n",
      " the eyes, not\n",
      " around the eyes,\n",
      " don't look around\n",
      " the eyes, look into\n",
      " my eyes, you're\n",
      " under.\n"
     ]
    }
   ],
   "source": [
    "s = \"Look into my eyes, look into my eyes, the eyes, the eyes, \\\n",
    "the eyes, not around the eyes, don't look around the eyes, \\\n",
    "look into my eyes, you're under.\"\n",
    "import textwrap\n",
    "\n",
    "print(textwrap.fill(s, 20, subsequent_indent=' '))"
   ]
  },
  {
   "cell_type": "code",
   "execution_count": 92,
   "id": "57370127",
   "metadata": {},
   "outputs": [
    {
     "data": {
      "text/plain": [
       "127"
      ]
     },
     "execution_count": 92,
     "metadata": {},
     "output_type": "execute_result"
    }
   ],
   "source": [
    "import os\n",
    "os.get_terminal_size().columns"
   ]
  },
  {
   "cell_type": "code",
   "execution_count": 98,
   "id": "180726f5",
   "metadata": {},
   "outputs": [
    {
     "name": "stdout",
     "output_type": "stream",
     "text": [
      "Spicy \"Jalapeño\".\n",
      "Elements are written as &quot;&lt;tag&gt;text&lt;/tag&gt;&quot;.\n"
     ]
    },
    {
     "name": "stderr",
     "output_type": "stream",
     "text": [
      "/Users/a19028558/.pyenv/versions/3.6.5/lib/python3.6/site-packages/ipykernel_launcher.py:5: DeprecationWarning: The unescape method is deprecated and will be removed in 3.5, use html.unescape() instead.\n",
      "  \"\"\"\n"
     ]
    }
   ],
   "source": [
    "# Работа с HTML- и XML-сущностями в тексте\n",
    "s = 'Spicy &quot;Jalape&#241;o&quot.'\n",
    "from html.parser import HTMLParser\n",
    "p = HTMLParser()\n",
    "print(p.unescape(s))\n",
    "s = 'Elements are written as \"<tag>text</tag>\".'\n",
    "import html\n",
    "print(html.escape(s))"
   ]
  },
  {
   "cell_type": "code",
   "execution_count": 100,
   "id": "450f1cb0",
   "metadata": {},
   "outputs": [
    {
     "name": "stdout",
     "output_type": "stream",
     "text": [
      "Token(type='NAME', value='foo')\n",
      "Token(type='WS', value=' ')\n",
      "Token(type='EQ', value='=')\n",
      "Token(type='WS', value=' ')\n",
      "Token(type='NUM', value='42')\n"
     ]
    }
   ],
   "source": [
    "# У вас есть строка, которую вы хотите распарсить в поток токенов слева направо.\n",
    "text = 'foo = 23 + 42 * 10'\n",
    "\n",
    "NAME = r'(?P<NAME>[a-zA-Z_][a-zA-Z_0-9]*)'\n",
    "NUM  = r'(?P<NUM>\\d+)'\n",
    "PLUS = r'(?P<PLUS>\\+)'\n",
    "TIMES = r'(?P<TIMES>\\*)'\n",
    "EQ  = r'(?P<EQ>=)'\n",
    "WS  = r'(?P<WS>\\s+)'\n",
    "\n",
    "master_pat = re.compile('|'.join([NAME, NUM, PLUS, TIMES, EQ, WS]))\n",
    "\n",
    "from collections import namedtuple\n",
    "\n",
    "Token = namedtuple('Token', ['type','value'])\n",
    "\n",
    "def generate_tokens(pat, text):\n",
    "    scanner = pat.scanner(text)\n",
    "    for m in iter(scanner.match, None):\n",
    "        yield Token(m.lastgroup, m.group())\n",
    "\n",
    "for tok in generate_tokens(master_pat, 'foo = 42'):\n",
    "    print(tok)"
   ]
  },
  {
   "cell_type": "code",
   "execution_count": 102,
   "id": "cd0b26ef",
   "metadata": {},
   "outputs": [
    {
     "data": {
      "text/plain": [
       "[b'FOO', b'BAR', b'SPAM']"
      ]
     },
     "execution_count": 102,
     "metadata": {},
     "output_type": "execute_result"
    }
   ],
   "source": [
    "# Вы можете просто применить к байтовым строкам поиск совпадений с помощью регулярных выражений, но сами шаблоны должны быть определены как байты.\n",
    "data = b'FOO:BAR,SPAM'\n",
    "\n",
    "re.split(b'[:,]',data)"
   ]
  },
  {
   "cell_type": "code",
   "execution_count": null,
   "id": "ee249f7b",
   "metadata": {},
   "outputs": [],
   "source": []
  }
 ],
 "metadata": {
  "kernelspec": {
   "display_name": "Python 3",
   "language": "python",
   "name": "python3"
  },
  "language_info": {
   "codemirror_mode": {
    "name": "ipython",
    "version": 3
   },
   "file_extension": ".py",
   "mimetype": "text/x-python",
   "name": "python",
   "nbconvert_exporter": "python",
   "pygments_lexer": "ipython3",
   "version": "3.6.5"
  }
 },
 "nbformat": 4,
 "nbformat_minor": 5
}
