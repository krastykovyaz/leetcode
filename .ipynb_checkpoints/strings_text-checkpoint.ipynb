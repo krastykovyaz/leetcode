{
 "cells": [
  {
   "cell_type": "markdown",
   "id": "eb23e70d",
   "metadata": {},
   "source": [
    "### Поиск на основе регулярных выражений"
   ]
  },
  {
   "cell_type": "code",
   "execution_count": 16,
   "id": "c40128f9",
   "metadata": {},
   "outputs": [
    {
     "data": {
      "text/plain": [
       "'asdf fjdk;afed,fjek,asdf,foo'"
      ]
     },
     "execution_count": 16,
     "metadata": {},
     "output_type": "execute_result"
    }
   ],
   "source": [
    "# переформатирования выводимой строки\n",
    "fields = ['asdf', ' ', 'fjdk', ';', 'afed', ',', 'fjek', ',', 'asdf', ',', 'foo']\n",
    "delimeters = fields[1::2] + ['']\n",
    "values = fields[::2]\n",
    "''.join([v+d for v,d in zip(values,delimeters)])"
   ]
  },
  {
   "cell_type": "code",
   "execution_count": 17,
   "id": "2680a25d",
   "metadata": {},
   "outputs": [
    {
     "name": "stdout",
     "output_type": "stream",
     "text": [
      "True\n",
      "True\n"
     ]
    }
   ],
   "source": [
    "# Вы хотите найти текст, используя те же маски, которые обычно используются в оболочках Unix (например, \\*.py, Dat[0-9]\\*.csv и т.д.)\n",
    "from fnmatch import fnmatch, fnmatchcase\n",
    "print(fnmatch('Dat45.csv', 'Dat[0-9]*'))\n",
    "print(fnmatch('foo.txt', '?oo.txt'))\n"
   ]
  },
  {
   "cell_type": "code",
   "execution_count": 18,
   "id": "c38c41b8",
   "metadata": {},
   "outputs": [
    {
     "data": {
      "text/plain": [
       "['5412 N CLARK ST']"
      ]
     },
     "execution_count": 18,
     "metadata": {},
     "output_type": "execute_result"
    }
   ],
   "source": [
    "addresses = [\n",
    "    '5412 N CLARK ST',\n",
    "    '1060 W ADDISON ST',\n",
    "    '1039 W GRANVILLE AVE',\n",
    "    '2122 N CLARK ST',\n",
    "    '4802 N BROADWAY',\n",
    "]\n",
    "[addr for addr in addresses if fnmatchcase(addr, '54[0-9][0-9] *CLARK*')]"
   ]
  },
  {
   "cell_type": "code",
   "execution_count": 19,
   "id": "1a401130",
   "metadata": {},
   "outputs": [
    {
     "name": "stdout",
     "output_type": "stream",
     "text": [
      "yes\n"
     ]
    }
   ],
   "source": [
    "# Если вы собираетесь много раз искать по одному и тому же шаблону, часто окупается предварительная компиляция шаблона регулярного выражения в объект шаблона.\n",
    "import re\n",
    "date = '2021-12-03'\n",
    "form = re.compile(r'\\d+-\\d+-\\d+')\n",
    "if form.match(date):\n",
    "    print('yes')\n",
    "else:\n",
    "    print('no')\n"
   ]
  },
  {
   "cell_type": "code",
   "execution_count": 34,
   "id": "e461de0a",
   "metadata": {},
   "outputs": [
    {
     "name": "stdout",
     "output_type": "stream",
     "text": [
      "('2021', '12', '03')\n",
      "2021 12 03\n",
      "iterated ('2021', '12', '03')\n"
     ]
    }
   ],
   "source": [
    "# При составлении регулярных выражений часто нужно использовать захватывающие группы, заключая части шаблона в скобки.\n",
    "form = re.compile(r'(\\d+)-(\\d+)-(\\d+)')\n",
    "g = form.match(date)\n",
    "print(g.groups())\n",
    "yead, month, day = g.groups()\n",
    "print(yead, month, day)\n",
    "\n",
    "# Если вы хотите искать совпадения итеративно, используйте метод *finditer()*\n",
    "for m in form.finditer(date):\n",
    "    print('iterated', m.groups())"
   ]
  },
  {
   "cell_type": "markdown",
   "id": "27ba45af",
   "metadata": {},
   "source": [
    "### Поиск и замена текста"
   ]
  },
  {
   "cell_type": "code",
   "execution_count": 35,
   "id": "792fe674",
   "metadata": {},
   "outputs": [
    {
     "data": {
      "text/plain": [
       "'Today is 2012-11-27. PyCon starts 2013-3-13.'"
      ]
     },
     "execution_count": 35,
     "metadata": {},
     "output_type": "execute_result"
    }
   ],
   "source": [
    "# перезаписать даты, чтобы перевести из их формата “11/27/2012” в “2012-11-27.”\n",
    "text = 'Today is 11/27/2012. PyCon starts 3/13/2013.'\n",
    "re.sub(r'(\\d+)/(\\d+)/(\\d+)', r'\\3-\\1-\\2', text)"
   ]
  },
  {
   "cell_type": "code",
   "execution_count": 39,
   "id": "54537e95",
   "metadata": {},
   "outputs": [
    {
     "data": {
      "text/plain": [
       "'Today is 27 Nov 2012. PyCon starts 13 Mar 2013.'"
      ]
     },
     "execution_count": 39,
     "metadata": {},
     "output_type": "execute_result"
    }
   ],
   "source": [
    "# более сложных подстановок можно определить подстановочную функцию обратного вызова (коллбэк, callback)\n",
    "from calendar import month_abbr\n",
    "\n",
    "form = re.compile(r'(\\d+)/(\\d+)/(\\d+)')\n",
    "\n",
    "def change_date(m):\n",
    "    mon_name = month_abbr[int(m.group(1))]\n",
    "    return '{} {} {}'.format(m.group(2), mon_name, m.group(3))\n",
    "\n",
    "form.sub(change_date, text)"
   ]
  },
  {
   "cell_type": "code",
   "execution_count": 42,
   "id": "d2aa61b9",
   "metadata": {},
   "outputs": [
    {
     "data": {
      "text/plain": [
       "'UPPER SNAKE, lower snake, Mixed Snake'"
      ]
     },
     "execution_count": 42,
     "metadata": {},
     "output_type": "execute_result"
    }
   ],
   "source": [
    "# текст замены не будет совпадать по регистру с заменяемым текстом\n",
    "\n",
    "text = 'UPPER PYTHON, lower python, Mixed Python'\n",
    "\n",
    "def matchcase(word):\n",
    "    def replace(m):\n",
    "        text = m.group()\n",
    "        if text.isupper():\n",
    "            return word.upper()\n",
    "        elif text.islower():\n",
    "            return word.lower()\n",
    "        elif text[0].isupper():\n",
    "            return word.capitalize()\n",
    "        else:\n",
    "            return word\n",
    "    return replace\n",
    "\n",
    "re.sub('python', matchcase('snake'), text, flags=re.IGNORECASE)\n"
   ]
  },
  {
   "cell_type": "code",
   "execution_count": null,
   "id": "72c392f0",
   "metadata": {},
   "outputs": [],
   "source": []
  }
 ],
 "metadata": {
  "kernelspec": {
   "display_name": "Python 3",
   "language": "python",
   "name": "python3"
  },
  "language_info": {
   "codemirror_mode": {
    "name": "ipython",
    "version": 3
   },
   "file_extension": ".py",
   "mimetype": "text/x-python",
   "name": "python",
   "nbconvert_exporter": "python",
   "pygments_lexer": "ipython3",
   "version": "3.6.5"
  }
 },
 "nbformat": 4,
 "nbformat_minor": 5
}
